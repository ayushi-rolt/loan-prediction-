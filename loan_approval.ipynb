{
 "cells": [
  {
   "cell_type": "markdown",
   "id": "9e9d9374-1b00-4054-8323-7331866c9246",
   "metadata": {},
   "source": [
    "# LOAN APPROVAL PREDECTIONS"
   ]
  },
  {
   "cell_type": "markdown",
   "id": "45e59776-b77a-44df-b446-7c84210ce7c3",
   "metadata": {},
   "source": [
    "##### Import necessary libraries"
   ]
  },
  {
   "cell_type": "code",
   "execution_count": 1,
   "id": "dc9ff490-c476-43d8-86a8-51518e81e972",
   "metadata": {},
   "outputs": [],
   "source": [
    "import pandas as pd\n",
    "import numpy as np\n",
    "from sklearn.model_selection import train_test_split\n",
    "from sklearn.preprocessing import LabelEncoder, StandardScaler\n",
    "from sklearn.linear_model import LogisticRegression\n",
    "from sklearn.tree import DecisionTreeClassifier\n",
    "from sklearn.ensemble import RandomForestClassifier\n",
    "from sklearn.neighbors import KNeighborsClassifier\n",
    "from sklearn.svm import SVC\n",
    "from sklearn.metrics import accuracy_score\n",
    "import pickle"
   ]
  },
  {
   "cell_type": "markdown",
   "id": "f0214f4e-751e-4829-80d9-845cd9898832",
   "metadata": {},
   "source": [
    "##### 1. Loading the data"
   ]
  },
  {
   "cell_type": "code",
   "execution_count": 2,
   "id": "e6f579be-e4f3-4e3d-a42a-9754ce25506f",
   "metadata": {},
   "outputs": [],
   "source": [
    "train_data = pd.read_csv('train[1].csv')\n",
    "test_data = pd.read_csv('test[1].csv')"
   ]
  },
  {
   "cell_type": "markdown",
   "id": "1d3575c0-6947-4192-bdde-f2f5b72dc5eb",
   "metadata": {},
   "source": [
    "##### 2. Processing and Handling missing values"
   ]
  },
  {
   "cell_type": "code",
   "execution_count": 3,
   "id": "13dadea1-9240-4e6c-ae23-93dfac27c9fc",
   "metadata": {
    "collapsed": true,
    "jupyter": {
     "outputs_hidden": true
    }
   },
   "outputs": [
    {
     "name": "stderr",
     "output_type": "stream",
     "text": [
      "C:\\Users\\DELL\\AppData\\Local\\Temp\\ipykernel_77280\\147887282.py:2: FutureWarning: A value is trying to be set on a copy of a DataFrame or Series through chained assignment using an inplace method.\n",
      "The behavior will change in pandas 3.0. This inplace method will never work because the intermediate object on which we are setting values always behaves as a copy.\n",
      "\n",
      "For example, when doing 'df[col].method(value, inplace=True)', try using 'df.method({col: value}, inplace=True)' or df[col] = df[col].method(value) instead, to perform the operation inplace on the original object.\n",
      "\n",
      "\n",
      "  train_data['LoanAmount'].fillna(train_data['LoanAmount'].mean(), inplace=True)\n",
      "C:\\Users\\DELL\\AppData\\Local\\Temp\\ipykernel_77280\\147887282.py:3: FutureWarning: A value is trying to be set on a copy of a DataFrame or Series through chained assignment using an inplace method.\n",
      "The behavior will change in pandas 3.0. This inplace method will never work because the intermediate object on which we are setting values always behaves as a copy.\n",
      "\n",
      "For example, when doing 'df[col].method(value, inplace=True)', try using 'df.method({col: value}, inplace=True)' or df[col] = df[col].method(value) instead, to perform the operation inplace on the original object.\n",
      "\n",
      "\n",
      "  train_data['Loan_Amount_Term'].fillna(train_data['Loan_Amount_Term'].mode()[0], inplace=True)\n",
      "C:\\Users\\DELL\\AppData\\Local\\Temp\\ipykernel_77280\\147887282.py:4: FutureWarning: A value is trying to be set on a copy of a DataFrame or Series through chained assignment using an inplace method.\n",
      "The behavior will change in pandas 3.0. This inplace method will never work because the intermediate object on which we are setting values always behaves as a copy.\n",
      "\n",
      "For example, when doing 'df[col].method(value, inplace=True)', try using 'df.method({col: value}, inplace=True)' or df[col] = df[col].method(value) instead, to perform the operation inplace on the original object.\n",
      "\n",
      "\n",
      "  train_data['Credit_History'].fillna(train_data['Credit_History'].mode()[0], inplace=True)\n",
      "C:\\Users\\DELL\\AppData\\Local\\Temp\\ipykernel_77280\\147887282.py:7: FutureWarning: A value is trying to be set on a copy of a DataFrame or Series through chained assignment using an inplace method.\n",
      "The behavior will change in pandas 3.0. This inplace method will never work because the intermediate object on which we are setting values always behaves as a copy.\n",
      "\n",
      "For example, when doing 'df[col].method(value, inplace=True)', try using 'df.method({col: value}, inplace=True)' or df[col] = df[col].method(value) instead, to perform the operation inplace on the original object.\n",
      "\n",
      "\n",
      "  test_data['LoanAmount'].fillna(test_data['LoanAmount'].mean(), inplace=True)\n",
      "C:\\Users\\DELL\\AppData\\Local\\Temp\\ipykernel_77280\\147887282.py:8: FutureWarning: A value is trying to be set on a copy of a DataFrame or Series through chained assignment using an inplace method.\n",
      "The behavior will change in pandas 3.0. This inplace method will never work because the intermediate object on which we are setting values always behaves as a copy.\n",
      "\n",
      "For example, when doing 'df[col].method(value, inplace=True)', try using 'df.method({col: value}, inplace=True)' or df[col] = df[col].method(value) instead, to perform the operation inplace on the original object.\n",
      "\n",
      "\n",
      "  test_data['Loan_Amount_Term'].fillna(test_data['Loan_Amount_Term'].mode()[0], inplace=True)\n",
      "C:\\Users\\DELL\\AppData\\Local\\Temp\\ipykernel_77280\\147887282.py:9: FutureWarning: A value is trying to be set on a copy of a DataFrame or Series through chained assignment using an inplace method.\n",
      "The behavior will change in pandas 3.0. This inplace method will never work because the intermediate object on which we are setting values always behaves as a copy.\n",
      "\n",
      "For example, when doing 'df[col].method(value, inplace=True)', try using 'df.method({col: value}, inplace=True)' or df[col] = df[col].method(value) instead, to perform the operation inplace on the original object.\n",
      "\n",
      "\n",
      "  test_data['Credit_History'].fillna(test_data['Credit_History'].mode()[0], inplace=True)\n"
     ]
    }
   ],
   "source": [
    "# Fill missing values in train_data\n",
    "train_data['LoanAmount'].fillna(train_data['LoanAmount'].mean(), inplace=True)\n",
    "train_data['Loan_Amount_Term'].fillna(train_data['Loan_Amount_Term'].mode()[0], inplace=True)\n",
    "train_data['Credit_History'].fillna(train_data['Credit_History'].mode()[0], inplace=True)\n",
    "\n",
    "# Fill missing values in test_data\n",
    "test_data['LoanAmount'].fillna(test_data['LoanAmount'].mean(), inplace=True)\n",
    "test_data['Loan_Amount_Term'].fillna(test_data['Loan_Amount_Term'].mode()[0], inplace=True)\n",
    "test_data['Credit_History'].fillna(test_data['Credit_History'].mode()[0], inplace=True)"
   ]
  },
  {
   "cell_type": "code",
   "execution_count": 4,
   "id": "4a78f816-b43d-48fc-b735-a2e3a4b4ba39",
   "metadata": {},
   "outputs": [],
   "source": [
    "# Drop Loan_ID\n",
    "train_data.drop('Loan_ID', axis=1, inplace=True)\n",
    "test_ids = test_data['Loan_ID']\n",
    "test_data.drop('Loan_ID', axis=1, inplace=True)"
   ]
  },
  {
   "cell_type": "markdown",
   "id": "7996853c-d45c-45e0-8aec-76a590a45b5b",
   "metadata": {},
   "source": [
    "##### 4. Encode categorical values"
   ]
  },
  {
   "cell_type": "code",
   "execution_count": 5,
   "id": "4711211d-e636-436c-a4a2-ccf9f3e4e166",
   "metadata": {},
   "outputs": [],
   "source": [
    "categorical_columns = ['Gender', 'Married', 'Dependents', 'Education', 'Self_Employed', 'Property_Area', 'Loan_Status']\n",
    "encoder = LabelEncoder()\n",
    "for col in categorical_columns:\n",
    "    if col in train_data.columns:\n",
    "        train_data[col] = encoder.fit_transform(train_data[col].astype(str))\n",
    "    if col in test_data.columns:\n",
    "        test_data[col] = encoder.transform(test_data[col].astype(str))"
   ]
  },
  {
   "cell_type": "markdown",
   "id": "2bdc6963-1ae1-4d68-9a10-2f0a722e3955",
   "metadata": {},
   "source": [
    "##### 5. Separating features and target"
   ]
  },
  {
   "cell_type": "code",
   "execution_count": 6,
   "id": "4911cef6-1d8c-4f58-9557-84e6607e704e",
   "metadata": {},
   "outputs": [],
   "source": [
    "X = train_data.drop('Loan_Status', axis=1)\n",
    "y = train_data['Loan_Status']"
   ]
  },
  {
   "cell_type": "markdown",
   "id": "4c7a45b5-dcba-4072-9db7-84a446a864d1",
   "metadata": {},
   "source": [
    "##### 6. Scaling the data"
   ]
  },
  {
   "cell_type": "code",
   "execution_count": 7,
   "id": "43239364-b576-4fbd-892f-a2a65b71d0d4",
   "metadata": {},
   "outputs": [],
   "source": [
    "scaler = StandardScaler()\n",
    "X = scaler.fit_transform(X)\n",
    "test_data = scaler.transform(test_data)"
   ]
  },
  {
   "cell_type": "code",
   "execution_count": 8,
   "id": "0259a2dd-3688-49b9-866d-4b0424b5215e",
   "metadata": {},
   "outputs": [],
   "source": [
    "# Split the training data\n",
    "X_train, X_val, y_train, y_val = train_test_split(X, y, test_size=0.2, random_state=42, stratify=y)"
   ]
  },
  {
   "cell_type": "markdown",
   "id": "6e3461b7-c618-495b-853e-a534ce0b53da",
   "metadata": {},
   "source": [
    "##### 7. Traning Models"
   ]
  },
  {
   "cell_type": "code",
   "execution_count": 9,
   "id": "eb512214-fb7a-48a1-b3d2-4258a0b8ae6d",
   "metadata": {},
   "outputs": [],
   "source": [
    "log_reg = LogisticRegression(max_iter=1000, random_state=42)\n",
    "decision_tree = DecisionTreeClassifier(random_state=42)\n",
    "random_forest = RandomForestClassifier(random_state=42)\n",
    "knn = KNeighborsClassifier()\n",
    "svm = SVC(random_state=42)\n"
   ]
  },
  {
   "cell_type": "code",
   "execution_count": 10,
   "id": "c58134d2-6185-413c-8c11-f7e0d88511a8",
   "metadata": {},
   "outputs": [],
   "source": [
    "#Train and evaluate each model\n",
    "models = {\n",
    "    \"Logistic Regression\": log_reg,\n",
    "    \"Decision Tree\": decision_tree,\n",
    "    \"Random Forest\": random_forest,\n",
    "    \"K-Nearest Neighbors\": knn,\n",
    "    \"Support Vector Machine\": svm\n",
    "}"
   ]
  },
  {
   "cell_type": "code",
   "execution_count": 11,
   "id": "b941d4bc-e087-471e-86ce-51af96ad1408",
   "metadata": {},
   "outputs": [
    {
     "name": "stdout",
     "output_type": "stream",
     "text": [
      "Model Accuracies:\n",
      "Logistic Regression: 0.8618\n",
      "Decision Tree: 0.7317\n",
      "Random Forest: 0.8374\n",
      "K-Nearest Neighbors: 0.8618\n",
      "Support Vector Machine: 0.8455\n"
     ]
    }
   ],
   "source": [
    "accuracies = {}\n",
    "trained_models = {}\n",
    "\n",
    "for model_name, model in models.items():\n",
    "    model.fit(X_train, y_train)  # Train model\n",
    "    y_pred = model.predict(X_val)  # Predict on validation set\n",
    "    acc = accuracy_score(y_val, y_pred)  # Calculate accuracy\n",
    "    accuracies[model_name] = acc  # Store accuracy\n",
    "    trained_models[model_name] = model  # Store trained model\n",
    "\n",
    "# Print model accuracies\n",
    "print(\"Model Accuracies:\")\n",
    "for model_name, accuracy in accuracies.items():\n",
    "    print(f\"{model_name}: {accuracy:.4f}\")"
   ]
  },
  {
   "cell_type": "code",
   "execution_count": 12,
   "id": "5328d561-a688-44c1-b668-e38098dd7896",
   "metadata": {},
   "outputs": [
    {
     "name": "stdout",
     "output_type": "stream",
     "text": [
      "                    Model  Accuracy\n",
      "0     Logistic Regression  0.861789\n",
      "3     K-Nearest Neighbors  0.861789\n",
      "4  Support Vector Machine  0.845528\n",
      "2           Random Forest  0.837398\n",
      "1           Decision Tree  0.731707\n"
     ]
    }
   ],
   "source": [
    "# Sort the models by accuracy\n",
    "accuracy_results = {\n",
    "    \"Model\": list(accuracies.keys()),\n",
    "    \"Accuracy\": list(accuracies.values())\n",
    "}\n",
    "accuracy_df = pd.DataFrame(accuracy_results)\n",
    "accuracy_df = accuracy_df.sort_values(by=\"Accuracy\", ascending=False)\n",
    "print(accuracy_df)"
   ]
  },
  {
   "cell_type": "code",
   "execution_count": 13,
   "id": "058954aa-dd58-427d-926d-87fa5a923c46",
   "metadata": {},
   "outputs": [
    {
     "name": "stdout",
     "output_type": "stream",
     "text": [
      "Best Model: Logistic Regression with Accuracy: 0.8618\n"
     ]
    }
   ],
   "source": [
    "# Select the best model based on accuracy\n",
    "best_model_name = max(accuracies, key=accuracies.get)\n",
    "final_model = trained_models[best_model_name]\n",
    "print(f\"Best Model: {best_model_name} with Accuracy: {accuracies[best_model_name]:.4f}\")"
   ]
  },
  {
   "cell_type": "markdown",
   "id": "d434dc52-5f0a-43f1-ab68-c26a2d495227",
   "metadata": {},
   "source": [
    "##### 8. Make predictions on the test data using the best model"
   ]
  },
  {
   "cell_type": "code",
   "execution_count": 14,
   "id": "9bdb1078-8877-4d28-9d84-c66612f1bba9",
   "metadata": {},
   "outputs": [],
   "source": [
    "predictions = final_model.predict(test_data) "
   ]
  },
  {
   "cell_type": "markdown",
   "id": "9912f9ff-968e-4e27-9e11-1a9ff897322d",
   "metadata": {},
   "source": [
    "##### 9. Save the final model to a pickle file"
   ]
  },
  {
   "cell_type": "code",
   "execution_count": 15,
   "id": "c225ae5f-69f1-4791-924d-03a333bb4bc3",
   "metadata": {},
   "outputs": [
    {
     "name": "stdout",
     "output_type": "stream",
     "text": [
      "Final model saved to logistic_regression_model.pkl\n"
     ]
    }
   ],
   "source": [
    "pickle_file = f'{best_model_name.replace(\" \", \"_\").lower()}_model.pkl'\n",
    "with open(pickle_file, 'wb') as file:\n",
    "    pickle.dump(final_model, file)\n",
    "print(f\"Final model saved to {pickle_file}\")"
   ]
  },
  {
   "cell_type": "code",
   "execution_count": 16,
   "id": "fdf564b2-39e7-462d-a1a7-4f19c37f2c19",
   "metadata": {
    "collapsed": true,
    "jupyter": {
     "outputs_hidden": true
    }
   },
   "outputs": [
    {
     "name": "stdout",
     "output_type": "stream",
     "text": [
      "Loan Status for this Candidate: YES\n"
     ]
    },
    {
     "name": "stderr",
     "output_type": "stream",
     "text": [
      "C:\\Users\\DELL\\AppData\\Local\\Programs\\Python\\Python312\\Lib\\site-packages\\sklearn\\base.py:493: UserWarning: X does not have valid feature names, but StandardScaler was fitted with feature names\n",
      "  warnings.warn(\n"
     ]
    }
   ],
   "source": [
    "candidate_data = {\n",
    "    'Gender': 1,  # 1 for Male, 0 for Female\n",
    "    'Married': 0,  # 0 for No, 1 for Yes\n",
    "    'Dependents': 0,  # Number of dependents\n",
    "    'Education': 0,  # 0 for Graduate, 1 for Not Graduate\n",
    "    'Self_Employed': 1,  # 1 for Yes, 0 for No\n",
    "    'Property_Area': 0,  # 0 for Urban, 1 for Semiurban, 2 for Rural\n",
    "    'LoanAmount': 135000.0,\n",
    "    'Loan_Amount_Term': 360,  # Term in months (example)\n",
    "    'Credit_History': 1,  # 1 for Good, 0 for Bad\n",
    "    'ApplicantIncome': 568800.0,\n",
    "    'CoapplicantIncome': 20560.5,\n",
    "}\n",
    "\n",
    "candidate_data_list = list(candidate_data.values())\n",
    "candidate_data_list = [candidate_data_list] \n",
    "candidate_data_scaled = scaler.transform(candidate_data_list)\n",
    "y_pred_dt = final_model.predict(candidate_data_scaled)\n",
    "prediction_label = 'YES' if y_pred_dt[0] == 1 else 'NO'\n",
    "print(f\"Loan Status for this Candidate: {prediction_label}\")"
   ]
  },
  {
   "cell_type": "code",
   "execution_count": 17,
   "id": "e13b6ee8-9ebf-4d46-8492-38ce088658d1",
   "metadata": {
    "collapsed": true,
    "jupyter": {
     "outputs_hidden": true
    }
   },
   "outputs": [
    {
     "name": "stdout",
     "output_type": "stream",
     "text": [
      "Loan Status for this Candidate: NO\n"
     ]
    },
    {
     "name": "stderr",
     "output_type": "stream",
     "text": [
      "C:\\Users\\DELL\\AppData\\Local\\Programs\\Python\\Python312\\Lib\\site-packages\\sklearn\\base.py:493: UserWarning: X does not have valid feature names, but StandardScaler was fitted with feature names\n",
      "  warnings.warn(\n"
     ]
    }
   ],
   "source": [
    "Candidate_data = {\n",
    "    'Gender': 0,\n",
    "    'Married': 0,\n",
    "    'Dependents': 1,\n",
    "    'Education': 1,\n",
    "    'Self_Employed': 0,\n",
    "    'Property_Area': 2,\n",
    "    'LoanAmount': 150000.0,\n",
    "    'Loan_Amount_Term': 180,\n",
    "    'Credit_History': 0,\n",
    "    'ApplicantIncome': 25000.0,\n",
    "    'CoapplicantIncome': 10000.0,\n",
    "}\n",
    "\n",
    "Candidate_data_list = list(Candidate_data.values())\n",
    "Candidate_data_list = [Candidate_data_list]\n",
    "Candidate_data_scaled = scaler.transform(Candidate_data_list)\n",
    "y_pred_no = final_model.predict(Candidate_data_scaled)\n",
    "prediction_label_no = 'Loan cannot be given' if y_pred_no[0] == 0 else 'NO'\n",
    "print(f\"Loan Status for this Candidate: {prediction_label_no}\")\n"
   ]
  },
  {
   "cell_type": "code",
   "execution_count": null,
   "id": "2767bcd3-197e-454a-8249-565a6b03bfcb",
   "metadata": {},
   "outputs": [],
   "source": []
  },
  {
   "cell_type": "code",
   "execution_count": null,
   "id": "8f6de19a-05ce-420a-afbe-2ec534305f61",
   "metadata": {},
   "outputs": [],
   "source": []
  }
 ],
 "metadata": {
  "kernelspec": {
   "display_name": "Python 3 (ipykernel)",
   "language": "python",
   "name": "python3"
  },
  "language_info": {
   "codemirror_mode": {
    "name": "ipython",
    "version": 3
   },
   "file_extension": ".py",
   "mimetype": "text/x-python",
   "name": "python",
   "nbconvert_exporter": "python",
   "pygments_lexer": "ipython3",
   "version": "3.12.5"
  }
 },
 "nbformat": 4,
 "nbformat_minor": 5
}
